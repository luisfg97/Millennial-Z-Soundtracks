{
 "cells": [
  {
   "cell_type": "code",
   "execution_count": 5,
   "id": "072ca6d2",
   "metadata": {},
   "outputs": [],
   "source": [
    "import numpy as np\n",
    "import pandas as pd"
   ]
  },
  {
   "cell_type": "markdown",
   "id": "51dac3b5",
   "metadata": {},
   "source": [
    "# CARGAR DATA"
   ]
  },
  {
   "cell_type": "code",
   "execution_count": 6,
   "id": "18595e24",
   "metadata": {},
   "outputs": [],
   "source": [
    "spotify_full = pd.read_csv(\"data/songs_normalize.csv\")\n",
    "df_artists = pd.read_csv(\"data/Artistas completo.csv\")"
   ]
  },
  {
   "cell_type": "markdown",
   "id": "de2259ae",
   "metadata": {},
   "source": [
    "# LIMPIEZA"
   ]
  },
  {
   "cell_type": "markdown",
   "id": "2b52a507",
   "metadata": {},
   "source": [
    "Limpieza de la columna genre. Necesitamos obtener solo un genero para una futura clasificacion por id, por lo que hemos optado por quedarnos solo con el primer genero."
   ]
  },
  {
   "cell_type": "code",
   "execution_count": 7,
   "id": "fc44c354",
   "metadata": {},
   "outputs": [],
   "source": [
    "spotify_full['genre'] = spotify_full['genre'].str.split(', ')\n",
    "spotify_full['genre'] = spotify_full['genre'].str[0]"
   ]
  },
  {
   "cell_type": "markdown",
   "id": "840b28cc",
   "metadata": {},
   "source": [
    "Creación del DF caracteristicas con las columnas correspondientes. Porteriormente creamos la columna caracteristicas_id."
   ]
  },
  {
   "cell_type": "code",
   "execution_count": 8,
   "id": "7d512453",
   "metadata": {},
   "outputs": [
    {
     "name": "stderr",
     "output_type": "stream",
     "text": [
      "C:\\Users\\luisf\\AppData\\Local\\Temp\\ipykernel_21140\\2160475493.py:2: SettingWithCopyWarning: \n",
      "A value is trying to be set on a copy of a slice from a DataFrame.\n",
      "Try using .loc[row_indexer,col_indexer] = value instead\n",
      "\n",
      "See the caveats in the documentation: https://pandas.pydata.org/pandas-docs/stable/user_guide/indexing.html#returning-a-view-versus-a-copy\n",
      "  df_caracteristicas['caracteristicas_id'] = df_caracteristicas.index + 1\n"
     ]
    }
   ],
   "source": [
    "df_caracteristicas = spotify_full[['danceability', 'energy', 'key', 'loudness', 'mode', 'speechiness', 'acousticness', 'instrumentalness', 'liveness', 'valence', 'tempo']]\n",
    "df_caracteristicas['caracteristicas_id'] = df_caracteristicas.index + 1"
   ]
  },
  {
   "cell_type": "markdown",
   "id": "5a862c9a",
   "metadata": {},
   "source": [
    "Creamos el DF de generos musicales. Convertimos valores a lista, hacemos un explode para separarlos generos y creamos una columna para el id."
   ]
  },
  {
   "cell_type": "code",
   "execution_count": 9,
   "id": "4ce28655",
   "metadata": {},
   "outputs": [
    {
     "name": "stderr",
     "output_type": "stream",
     "text": [
      "C:\\Users\\luisf\\AppData\\Local\\Temp\\ipykernel_21140\\706322358.py:2: SettingWithCopyWarning: \n",
      "A value is trying to be set on a copy of a slice from a DataFrame.\n",
      "Try using .loc[row_indexer,col_indexer] = value instead\n",
      "\n",
      "See the caveats in the documentation: https://pandas.pydata.org/pandas-docs/stable/user_guide/indexing.html#returning-a-view-versus-a-copy\n",
      "  df_genres['genre'] = df_genres['genre'].str.split(', ')\n"
     ]
    }
   ],
   "source": [
    "df_genres = spotify_full[['genre']]\n",
    "df_genres['genre'] = df_genres['genre'].str.split(', ')\n",
    "df_genres_explode = df_genres.explode('genre')\n",
    "df_genres_final = df_genres_explode.drop_duplicates().reset_index(drop= True)\n",
    "df_genres_final['genre_id'] = df_genres_final.index + 1"
   ]
  },
  {
   "cell_type": "markdown",
   "id": "6a701503",
   "metadata": {},
   "source": [
    "Creamos Df de canciones. Nos quedamos con las columnas que nos interesan para las tablas y añadimos la coumna para el id."
   ]
  },
  {
   "cell_type": "code",
   "execution_count": 10,
   "id": "58683471",
   "metadata": {},
   "outputs": [
    {
     "name": "stderr",
     "output_type": "stream",
     "text": [
      "C:\\Users\\luisf\\AppData\\Local\\Temp\\ipykernel_21140\\2326880774.py:2: SettingWithCopyWarning: \n",
      "A value is trying to be set on a copy of a slice from a DataFrame.\n",
      "Try using .loc[row_indexer,col_indexer] = value instead\n",
      "\n",
      "See the caveats in the documentation: https://pandas.pydata.org/pandas-docs/stable/user_guide/indexing.html#returning-a-view-versus-a-copy\n",
      "  df_songs['song_id'] = df_songs.index + 1\n"
     ]
    }
   ],
   "source": [
    "df_songs = spotify_full[['song', 'year', 'duration_ms', 'explicit', 'popularity', 'artist', 'genre']]\n",
    "df_songs['song_id'] = df_songs.index + 1"
   ]
  },
  {
   "cell_type": "markdown",
   "id": "40a347d1",
   "metadata": {},
   "source": [
    "Añadimos una columna de id al DF de artistas completo."
   ]
  },
  {
   "cell_type": "code",
   "execution_count": 11,
   "id": "70345780",
   "metadata": {},
   "outputs": [],
   "source": [
    "df_artists['artist_id'] = df_artists.index + 1\n",
    "df_artists.rename(columns= {'name' : 'artist'}, inplace= True)"
   ]
  },
  {
   "cell_type": "markdown",
   "id": "4fb2a5f4",
   "metadata": {},
   "source": [
    "# AGRUPACIONES"
   ]
  },
  {
   "cell_type": "markdown",
   "id": "97449f49",
   "metadata": {},
   "source": [
    "Hacemos un merge entre el Df de canciones y el de artistas para que haya relacion entre los id de artistas y la columna de artistas de songs. Despues nos deshacemos de las columnas sobrantes."
   ]
  },
  {
   "cell_type": "code",
   "execution_count": 12,
   "id": "858c8e91",
   "metadata": {},
   "outputs": [],
   "source": [
    "df_songs_final = df_songs.merge(df_artists, on= 'artist', how= 'left')\n",
    "df_songs_final.drop(['artist', 'type', 'nationality', 'year_of_birth_or_formation'], axis= 1, inplace= True)"
   ]
  },
  {
   "cell_type": "markdown",
   "id": "4b3d7ac2",
   "metadata": {},
   "source": [
    "Hacemos otro merge para añadir la realcion entre genre:id y genres, asi actualizamos una vez mas el df final de canciones."
   ]
  },
  {
   "cell_type": "code",
   "execution_count": 13,
   "id": "8dcee038",
   "metadata": {},
   "outputs": [],
   "source": [
    "df_songs_final = df_songs_final.merge(df_genres_final, on= 'genre', how= 'left')\n",
    "df_songs_final.drop('genre', axis= 1, inplace= True)"
   ]
  },
  {
   "cell_type": "markdown",
   "id": "027e76b4",
   "metadata": {},
   "source": [
    "Añadimos una columna para caracteristicas_id, no es encesario hacer un merge, ya que las key de caracteristicas y songs son idénticas."
   ]
  },
  {
   "cell_type": "code",
   "execution_count": 14,
   "id": "644546a8",
   "metadata": {},
   "outputs": [],
   "source": [
    "df_songs_final['caracteristicas_id'] = df_songs.index + 1"
   ]
  },
  {
   "cell_type": "markdown",
   "id": "6be313a2",
   "metadata": {},
   "source": [
    "# EXPORTAR"
   ]
  },
  {
   "cell_type": "markdown",
   "id": "28195389",
   "metadata": {},
   "source": [
    "Finalmente exportamos los cuatro DF a csv para continuar trabajando en MySQL."
   ]
  },
  {
   "cell_type": "code",
   "execution_count": 15,
   "id": "3221751e",
   "metadata": {},
   "outputs": [],
   "source": [
    "df_songs_final.to_csv('songs.csv', index= False)\n",
    "df_artists.to_csv('artist.csv', index= False)\n",
    "df_genres_final.to_csv('genres.csv', index= False)\n",
    "df_caracteristicas.to_csv('caracteristics.csv', index= False)"
   ]
  }
 ],
 "metadata": {
  "kernelspec": {
   "display_name": "Python 3",
   "language": "python",
   "name": "python3"
  },
  "language_info": {
   "codemirror_mode": {
    "name": "ipython",
    "version": 3
   },
   "file_extension": ".py",
   "mimetype": "text/x-python",
   "name": "python",
   "nbconvert_exporter": "python",
   "pygments_lexer": "ipython3",
   "version": "3.11.9"
  }
 },
 "nbformat": 4,
 "nbformat_minor": 5
}
